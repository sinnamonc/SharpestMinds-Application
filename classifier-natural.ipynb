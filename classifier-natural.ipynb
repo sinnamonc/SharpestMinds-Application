{
 "cells": [
  {
   "cell_type": "code",
   "execution_count": 1,
   "metadata": {},
   "outputs": [
    {
     "name": "stderr",
     "output_type": "stream",
     "text": [
      "Using TensorFlow backend.\n"
     ]
    },
    {
     "name": "stdout",
     "output_type": "stream",
     "text": [
      "Complete\n"
     ]
    }
   ],
   "source": [
    "import numpy as np\n",
    "import pandas as pd\n",
    "import time\n",
    "import math\n",
    "import sys\n",
    "from keras.utils import to_categorical\n",
    "from keras.models import Sequential\n",
    "from keras.layers import Dense, Activation\n",
    "from keras.layers import Dropout\n",
    "from keras.layers.normalization import BatchNormalization\n",
    "from keras.optimizers import RMSprop\n",
    "import keras.callbacks\n",
    "import matplotlib.pyplot as plt\n",
    "from data_preprocessing import import_data\n",
    "from utils import shuffle_in_unison\n",
    "from utils import percent_correct\n",
    "from utils import get_uniform_batch\n",
    "print('Complete')"
   ]
  },
  {
   "cell_type": "code",
   "execution_count": 2,
   "metadata": {},
   "outputs": [
    {
     "name": "stdout",
     "output_type": "stream",
     "text": [
      "Complete\n"
     ]
    }
   ],
   "source": [
    "\n",
    "# Import the data as a dataframe\n",
    "df = import_data()\n",
    "# print('Dataframe shape:',df.shape)\n",
    "print('Complete')"
   ]
  },
  {
   "cell_type": "code",
   "execution_count": 3,
   "metadata": {
    "scrolled": true
   },
   "outputs": [
    {
     "name": "stdout",
     "output_type": "stream",
     "text": [
      "Complete\n"
     ]
    }
   ],
   "source": [
    "\n",
    "# Create test, validation, and training sets\n",
    "test_df = pd.DataFrame()\n",
    "valid_df = pd.DataFrame()\n",
    "train_df = pd.DataFrame()\n",
    "\n",
    "# take about 80% of the data for the training and validation sets\n",
    "train_df_size_per_index = 370000    # about 64% of the data\n",
    "valid_df_size_per_index = 100000    # about 16% of the data\n",
    "\n",
    "#Shuffle the dataframe df\n",
    "df = df.sample(frac=1)\n",
    "\n",
    "# Put the first test_df_size into the test set\n",
    "train_df = df[:train_df_size_per_index]\n",
    "# Put the next valid_df_size into the validation set\n",
    "valid_df = df[train_df_size_per_index:train_df_size_per_index+valid_df_size_per_index]\n",
    "# Put the remainder into the training set\n",
    "test_df = df[train_df_size_per_index+valid_df_size_per_index:]\n",
    "\n",
    "# Extract the last columns, which corresponds to the labels\n",
    "test_labels = test_df.iloc[:, -1]\n",
    "valid_labels = valid_df.iloc[:, -1]\n",
    "train_labels = train_df.iloc[:, -1]\n",
    "\n",
    "# Remove the last columns, which corresponds to the labels\n",
    "test_df = test_df.drop(test_df.columns[-1], axis=1)\n",
    "valid_df = valid_df.drop(valid_df.columns[-1], axis=1)\n",
    "train_df = train_df.drop(train_df.columns[-1], axis=1)\n",
    "\n",
    "# Convert data from dataframes to np.arrays\n",
    "test_data = test_df.values\n",
    "valid_data = valid_df.values\n",
    "train_data = train_df.values\n",
    "test_labels = test_labels.values\n",
    "valid_labels = valid_labels.values\n",
    "train_labels = train_labels.values\n",
    "\n",
    "# Convert labels to one hot vectors\n",
    "test_labels = to_categorical(test_labels-1, 7)\n",
    "valid_labels = to_categorical(valid_labels-1, 7)\n",
    "train_labels = to_categorical(train_labels-1, 7)\n",
    "\n",
    "# Shuffle the data and labels\n",
    "shuffle_in_unison(test_data, test_labels)\n",
    "shuffle_in_unison(valid_data, valid_labels)\n",
    "shuffle_in_unison(train_data, train_labels)\n",
    "\n",
    "print('Complete')"
   ]
  },
  {
   "cell_type": "code",
   "execution_count": 4,
   "metadata": {},
   "outputs": [
    {
     "name": "stdout",
     "output_type": "stream",
     "text": [
      "Build model...\n",
      "Complete\n"
     ]
    }
   ],
   "source": [
    "# Delete existing model\n",
    "# del model\n",
    "\n",
    "# Build the model\n",
    "print('Build model...')\n",
    "model = Sequential()\n",
    "model.add(Dense(120, activation='relu', input_dim=54))\n",
    "model.add(BatchNormalization())\n",
    "# model.add(Dropout(0.5))\n",
    "# model.add(Dense(64, activation='relu'))\n",
    "# model.add(BatchNormalization())\n",
    "# model.add(Dropout(0.5))\n",
    "model.add(Dense(7, activation='softmax'))\n",
    "\n",
    "\n",
    "optimizer = RMSprop(lr=0.05)\n",
    "# model.compile(loss='mean_squared_error', optimizer=optimizer)\n",
    "model.compile(loss='categorical_crossentropy', optimizer=optimizer)\n",
    "\n",
    "print('Complete')"
   ]
  },
  {
   "cell_type": "code",
   "execution_count": 5,
   "metadata": {
    "scrolled": true
   },
   "outputs": [
    {
     "name": "stdout",
     "output_type": "stream",
     "text": [
      "Complete\n"
     ]
    }
   ],
   "source": [
    "num_epochs_trained = 0\n",
    "train_loss = []\n",
    "valid_loss = []\n",
    "print('Complete')\n"
   ]
  },
  {
   "cell_type": "code",
   "execution_count": 6,
   "metadata": {},
   "outputs": [
    {
     "name": "stdout",
     "output_type": "stream",
     "text": [
      "Complete.\n"
     ]
    }
   ],
   "source": [
    "def get_batch(data, labels, num=10000):\n",
    "    \"\"\"Gets a batch consisting of num (default 10000) samples randomly chosen with replacement\n",
    "    from the input data and labels.\n",
    "    \"\"\"\n",
    "    \n",
    "    indices = np.random.choice(data.shape[0]-1, num)\n",
    "    batch_data = data[indices, :]\n",
    "    batch_labels = labels[indices, :]\n",
    "    \n",
    "    return batch_data, batch_labels\n",
    "\n",
    "print('Complete.')"
   ]
  },
  {
   "cell_type": "code",
   "execution_count": 7,
   "metadata": {},
   "outputs": [
    {
     "name": "stdout",
     "output_type": "stream",
     "text": [
      "Training for 1 minutes...\n",
      "Epoch = 26, train_loss = 0.5693, valid_loss = 0.5552, epoch_time = 2.3s\n",
      "Total time elapsed for this session = 1.0m\n"
     ]
    },
    {
     "data": {
      "image/png": "[encoded data removed]",
      "text/plain": [
       "<matplotlib.figure.Figure at 0x7fdd9b5e3588>"
      ]
     },
     "metadata": {},
     "output_type": "display_data"
    }
   ],
   "source": [
    "# train the model several epochs, and test on the validation set. Plot the loss for train and validation sets\n",
    "# 8 epochs takes about a minute\n",
    "t_init = time.time()\n",
    "# for _ in np.arange(200):\n",
    "train_time = 1 # how long to train for in minutes\n",
    "print('Training for {} minutes...'.format(train_time))\n",
    "while (time.time() - t_init)/60 < train_time:\n",
    "    #print('Creating batch number', num_epochs_trained + 1, '...')\n",
    "#     batch_data, batch_labels = get_batch(train_data,train_labels)\n",
    "#     if num_epochs_trained%100 == 0:\n",
    "#         print('Training on batch number', num_epochs_trained + 1, '...')\n",
    "#     train_loss.append(model.train_on_batch(batch_data, batch_labels))\n",
    "    t = time.time()\n",
    "    history = model.fit(train_data, train_labels, batch_size=1000, epochs=1, verbose=0)\n",
    "    train_loss.append(history.history['loss'])\n",
    "    valid_loss.append(model.test_on_batch(valid_data, valid_labels, sample_weight=None))\n",
    "    epoch_time = time.time() - t\n",
    "    print('\\b\\b\\b\\rEpoch = {}, train_loss = {:0.4f}, valid_loss = {:0.4f}, epoch_time = {:0.1f}s'\n",
    "          .format(num_epochs_trained+1, train_loss[-1][0], valid_loss[-1], epoch_time), end='')\n",
    "    num_epochs_trained = num_epochs_trained + 1\n",
    "total_time = time.time() - t_init\n",
    "\n",
    "print('\\nTotal time elapsed for this session = {:0.1f}m'.format(total_time/60))\n",
    "# print('train_loss =', train_loss[-1], '    valid_loss =', valid_loss[-1])\n",
    "# print('\\nTotal number of epochs trained = {}'.format(num_epochs_trained))\n",
    "\n",
    "# model.save('models/ground_cover_classifier_natural.h5')\n",
    "\n",
    "plt.plot(train_loss)\n",
    "plt.plot(valid_loss)\n",
    "plt.title('model loss')\n",
    "plt.ylabel('loss')\n",
    "plt.xlabel('epoch')\n",
    "plt.legend(['train', 'validation'], loc='upper left')\n",
    "plt.show()"
   ]
  },
  {
   "cell_type": "code",
   "execution_count": null,
   "metadata": {},
   "outputs": [],
   "source": [
    "model.save('models/ground_cover_classifier_natural.h5')"
   ]
  },
  {
   "cell_type": "code",
   "execution_count": 8,
   "metadata": {},
   "outputs": [
    {
     "name": "stdout",
     "output_type": "stream",
     "text": [
      "Correct: 76.02027027027027 %\n"
     ]
    }
   ],
   "source": [
    "percent_correct(model, train_data, train_labels)"
   ]
  },
  {
   "cell_type": "code",
   "execution_count": 10,
   "metadata": {},
   "outputs": [
    {
     "name": "stdout",
     "output_type": "stream",
     "text": [
      "Correct: 76.123 %\n"
     ]
    }
   ],
   "source": [
    "percent_correct(model, valid_data, valid_labels)"
   ]
  },
  {
   "cell_type": "code",
   "execution_count": 14,
   "metadata": {},
   "outputs": [
    {
     "name": "stdout",
     "output_type": "stream",
     "text": [
      "test_loss= 0.557015\n"
     ]
    }
   ],
   "source": [
    "test_loss = model.test_on_batch(test_data, test_labels, sample_weight=None)\n",
    "print('test_loss=', test_loss)"
   ]
  },
  {
   "cell_type": "code",
   "execution_count": 13,
   "metadata": {},
   "outputs": [
    {
     "name": "stdout",
     "output_type": "stream",
     "text": [
      "Correct: 76.31337152740244 %\n"
     ]
    }
   ],
   "source": [
    "percent_correct(model, test_data, test_labels)"
   ]
  },
  {
   "cell_type": "code",
   "execution_count": null,
   "metadata": {
    "collapsed": true
   },
   "outputs": [],
   "source": []
  }
 ],
 "metadata": {
  "kernelspec": {
   "display_name": "Python 3",
   "language": "python",
   "name": "python3"
  },
  "language_info": {
   "codemirror_mode": {
    "name": "ipython",
    "version": 3
   },
   "file_extension": ".py",
   "mimetype": "text/x-python",
   "name": "python",
   "nbconvert_exporter": "python",
   "pygments_lexer": "ipython3",
   "version": "3.5.2"
  }
 },
 "nbformat": 4,
 "nbformat_minor": 2
}
