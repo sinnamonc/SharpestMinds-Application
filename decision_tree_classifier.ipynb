{
 "cells": [
  {
   "cell_type": "code",
   "execution_count": 3,
   "metadata": {},
   "outputs": [
    {
     "name": "stdout",
     "output_type": "stream",
     "text": [
      "Imports Complete\n"
     ]
    }
   ],
   "source": [
    "from sklearn import tree\n",
    "from sklearn import ensemble\n",
    "from sklearn import decomposition\n",
    "from sklearn.decomposition import PCA\n",
    "from data_preprocessing import get_data_sets\n",
    "import numpy as np\n",
    "import time\n",
    "# import graphviz \n",
    "import matplotlib.pyplot as plt\n",
    "print('Imports Complete')"
   ]
  },
  {
   "cell_type": "markdown",
   "metadata": {},
   "source": [
    "The goal of this notebook is to try out decision trees for our problem of ground cover classification.\n",
    "First, a basic tree with all default parameters..."
   ]
  },
  {
   "cell_type": "code",
   "execution_count": 4,
   "metadata": {},
   "outputs": [
    {
     "name": "stdout",
     "output_type": "stream",
     "text": [
      "Complete\n"
     ]
    }
   ],
   "source": [
    "test_data, test_labels, valid_data, valid_labels, train_data, train_labels = get_data_sets(seed = 1234)\n",
    "print('Complete')"
   ]
  },
  {
   "cell_type": "code",
   "execution_count": 5,
   "metadata": {},
   "outputs": [
    {
     "name": "stdout",
     "output_type": "stream",
     "text": [
      "Tree constructed in 321.25 seconds.\n",
      "Mean accuracy on training set = 100.00%\n",
      "Mean accuracy on validation set = 94.58%\n",
      "Mean accuracy on testing set = 94.69%\n"
     ]
    }
   ],
   "source": [
    "# A random forest with 1000 trees\n",
    "clf = ensemble.RandomForestClassifier(n_estimators=1000,  n_jobs = -1, class_weight=\"balanced\")\n",
    "t = time.time()\n",
    "clf = clf.fit(train_data, train_labels)\n",
    "elapsed = time.time() - t\n",
    "print('Tree constructed in {:0.2f} seconds.'.format(elapsed))\n",
    "print('Mean accuracy on training set = {:0.2f}%'.format(clf.score(train_data,train_labels)*100))\n",
    "print('Mean accuracy on validation set = {:0.2f}%'.format(clf.score(valid_data,valid_labels)*100))\n",
    "print('Mean accuracy on testing set = {:0.2f}%'.format(clf.score(test_data,test_labels)*100))"
   ]
  },
  {
   "cell_type": "code",
   "execution_count": 6,
   "metadata": {},
   "outputs": [
    {
     "name": "stdout",
     "output_type": "stream",
     "text": [
      "Model saved.\n"
     ]
    }
   ],
   "source": [
    "from sklearn.externals import joblib\n",
    "joblib.dump(clf, 'models/random_forest_1000_balanced_seed-1234.pkl')\n",
    "print(\"Model saved.\")"
   ]
  },
  {
   "cell_type": "code",
   "execution_count": null,
   "metadata": {},
   "outputs": [],
   "source": []
  }
 ],
 "metadata": {
  "kernelspec": {
   "display_name": "Python 3",
   "language": "python",
   "name": "python3"
  },
  "language_info": {
   "codemirror_mode": {
    "name": "ipython",
    "version": 3
   },
   "file_extension": ".py",
   "mimetype": "text/x-python",
   "name": "python",
   "nbconvert_exporter": "python",
   "pygments_lexer": "ipython3",
   "version": "3.5.2"
  }
 },
 "nbformat": 4,
 "nbformat_minor": 2
}
