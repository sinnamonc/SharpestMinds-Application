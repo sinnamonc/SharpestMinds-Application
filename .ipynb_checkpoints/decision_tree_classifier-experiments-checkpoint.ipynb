{
 "cells": [
  {
   "cell_type": "code",
   "execution_count": 1,
   "metadata": {},
   "outputs": [
    {
     "name": "stderr",
     "output_type": "stream",
     "text": [
      "Using TensorFlow backend.\n"
     ]
    },
    {
     "name": "stdout",
     "output_type": "stream",
     "text": [
      "Imports Complete\n"
     ]
    }
   ],
   "source": [
    "from sklearn import tree\n",
    "from sklearn import ensemble\n",
    "from sklearn import decomposition\n",
    "from sklearn.decomposition import PCA\n",
    "from data_preprocessing import get_data_sets\n",
    "import numpy as np\n",
    "import time\n",
    "# import graphviz \n",
    "import matplotlib.pyplot as plt\n",
    "print('Imports Complete')"
   ]
  },
  {
   "cell_type": "markdown",
   "metadata": {},
   "source": [
    "The goal of this notebook is to try out decision trees for our problem of ground cover classification.\n",
    "First, a basic tree with all default parameters..."
   ]
  },
  {
   "cell_type": "code",
   "execution_count": 2,
   "metadata": {},
   "outputs": [
    {
     "name": "stdout",
     "output_type": "stream",
     "text": [
      "Complete\n"
     ]
    }
   ],
   "source": [
    "test_data, test_labels, valid_data, valid_labels, train_data, train_labels = get_data_sets()\n",
    "print('Complete')"
   ]
  },
  {
   "cell_type": "code",
   "execution_count": 3,
   "metadata": {},
   "outputs": [
    {
     "name": "stdout",
     "output_type": "stream",
     "text": [
      "Tree constructed in 10.11 seconds.\n"
     ]
    }
   ],
   "source": [
    "clf = tree.DecisionTreeClassifier()\n",
    "t = time.time()\n",
    "clf = clf.fit(train_data, train_labels)\n",
    "elapsed = time.time() - t\n",
    "print('Tree constructed in {:0.2f} seconds.'.format(elapsed))"
   ]
  },
  {
   "cell_type": "code",
   "execution_count": 4,
   "metadata": {},
   "outputs": [
    {
     "name": "stdout",
     "output_type": "stream",
     "text": [
      "Mean accuracy on training set = 100.00%\n",
      "Mean accuracy on validation set = 93.11%\n",
      "Mean accuracy on testing set = 93.23%\n"
     ]
    }
   ],
   "source": [
    "print('Mean accuracy on training set = {:0.2f}%'.format(clf.score(train_data, train_labels)*100))\n",
    "print('Mean accuracy on validation set = {:0.2f}%'.format(clf.score(valid_data, valid_labels)*100))\n",
    "print('Mean accuracy on testing set = {:0.2f}%'.format(clf.score(test_data, test_labels)*100))"
   ]
  },
  {
   "cell_type": "markdown",
   "metadata": {},
   "source": [
    "Wow! Even with something this fast and simple we acheived 93% accuracy. Let's see if we can knock the accuracy up a notch.\n",
    "Notice that we are overfitting a bit here since our training accuracy is 100% while our validation accuracy is only 93%. So we could afford to loosen up the tree structure here so that it generalizes a bit better. Let's experiment with the parameters in the decision tree, like max_depth, and min_samples_leaf"
   ]
  },
  {
   "cell_type": "code",
   "execution_count": 5,
   "metadata": {},
   "outputs": [
    {
     "name": "stdout",
     "output_type": "stream",
     "text": [
      "Tree constructed in 0.98 seconds.\n"
     ]
    }
   ],
   "source": [
    "clf = tree.DecisionTreeClassifier(max_depth=1)\n",
    "t = time.time()\n",
    "clf = clf.fit(train_data, train_labels)\n",
    "elapsed = time.time() - t\n",
    "print('Tree constructed in {:0.2f} seconds.'.format(elapsed))"
   ]
  },
  {
   "cell_type": "code",
   "execution_count": 6,
   "metadata": {},
   "outputs": [
    {
     "name": "stdout",
     "output_type": "stream",
     "text": [
      "Mean accuracy on training set = 63.41%\n",
      "Mean accuracy on validation set = 63.50%\n",
      "Mean accuracy on testing set = 63.05%\n"
     ]
    }
   ],
   "source": [
    "print('Mean accuracy on training set = {:0.2f}%'.format(clf.score(train_data, train_labels)*100))\n",
    "print('Mean accuracy on validation set = {:0.2f}%'.format(clf.score(valid_data, valid_labels)*100))\n",
    "print('Mean accuracy on testing set = {:0.2f}%'.format(clf.score(test_data, test_labels)*100))"
   ]
  },
  {
   "cell_type": "code",
   "execution_count": 22,
   "metadata": {},
   "outputs": [
    {
     "name": "stdout",
     "output_type": "stream",
     "text": [
      "Tree of max_depth 1 constructed in 3.29 seconds.  \n",
      "Mean accuracy on training set = 63.42%  \n",
      "Mean accuracy on validation set = 63.10%\n",
      "Tree of max_depth 2 constructed in 5.21 seconds.  \n",
      "Mean accuracy on training set = 67.09%  \n",
      "Mean accuracy on validation set = 66.77%\n",
      "Tree of max_depth 3 constructed in 7.46 seconds.  \n",
      "Mean accuracy on training set = 67.59%  \n",
      "Mean accuracy on validation set = 67.36%\n",
      "Tree of max_depth 4 constructed in 9.47 seconds.  \n",
      "Mean accuracy on training set = 69.75%  \n",
      "Mean accuracy on validation set = 69.53%\n",
      "Tree of max_depth 5 constructed in 11.83 seconds.  \n",
      "Mean accuracy on training set = 69.59%  \n",
      "Mean accuracy on validation set = 69.29%\n",
      "Tree of max_depth 6 constructed in 13.45 seconds.  \n",
      "Mean accuracy on training set = 71.22%  \n",
      "Mean accuracy on validation set = 70.93%\n",
      "Tree of max_depth 7 constructed in 15.40 seconds.  \n",
      "Mean accuracy on training set = 72.21%  \n",
      "Mean accuracy on validation set = 71.94%\n",
      "Tree of max_depth 8 constructed in 17.14 seconds.  \n",
      "Mean accuracy on training set = 74.14%  \n",
      "Mean accuracy on validation set = 73.82%\n",
      "Tree of max_depth 9 constructed in 20.01 seconds.  \n",
      "Mean accuracy on training set = 76.43%  \n",
      "Mean accuracy on validation set = 76.00%\n",
      "Tree of max_depth 10 constructed in 19.51 seconds.  \n",
      "Mean accuracy on training set = 76.62%  \n",
      "Mean accuracy on validation set = 76.19%\n",
      "Tree of max_depth 11 constructed in 23.37 seconds.  \n",
      "Mean accuracy on training set = 78.42%  \n",
      "Mean accuracy on validation set = 77.89%\n",
      "Tree of max_depth 12 constructed in 23.52 seconds.  \n",
      "Mean accuracy on training set = 79.89%  \n",
      "Mean accuracy on validation set = 78.91%\n",
      "Tree of max_depth 13 constructed in 25.64 seconds.  \n",
      "Mean accuracy on training set = 83.03%  \n",
      "Mean accuracy on validation set = 81.75%\n",
      "Tree of max_depth 14 constructed in 27.21 seconds.  \n",
      "Mean accuracy on training set = 84.23%  \n",
      "Mean accuracy on validation set = 82.74%\n",
      "Tree of max_depth 15 constructed in 28.74 seconds.  \n",
      "Mean accuracy on training set = 86.09%  \n",
      "Mean accuracy on validation set = 84.30%\n",
      "Tree of max_depth 16 constructed in 29.94 seconds.  \n",
      "Mean accuracy on training set = 88.01%  \n",
      "Mean accuracy on validation set = 85.78%\n",
      "Tree of max_depth 17 constructed in 31.73 seconds.  \n",
      "Mean accuracy on training set = 89.53%  \n",
      "Mean accuracy on validation set = 86.71%\n",
      "Tree of max_depth 18 constructed in 32.45 seconds.  \n",
      "Mean accuracy on training set = 90.97%  \n",
      "Mean accuracy on validation set = 87.81%\n",
      "Tree of max_depth 19 constructed in 33.24 seconds.  \n",
      "Mean accuracy on training set = 92.61%  \n",
      "Mean accuracy on validation set = 89.04%\n"
     ]
    }
   ],
   "source": [
    "best_val_acc = 0\n",
    "train_acc = []\n",
    "val_acc = []\n",
    "for i in np.arange(1, 20):\n",
    "    clf = tree.DecisionTreeClassifier(max_depth=i)\n",
    "    t = time.time()\n",
    "    clf = clf.fit(train_data, train_labels)\n",
    "    elapsed = time.time() - t\n",
    "    print('Tree of max_depth {} constructed in {:0.2f} seconds.'.format(i, elapsed), end=' ')\n",
    "    train_acc.append(clf.score(train_data, train_labels))\n",
    "    val_acc.append(clf.score(valid_data, valid_labels))\n",
    "    print('train_acc = {:0.2f}%'.format(train_acc[-1]*100), end=' ')\n",
    "    print('val_acc = {:0.2f}%'.format(val_acc[-1]*100))\n",
    "    if val_acc[-1]>best_val_acc:\n",
    "        best_max_depth = i\n",
    "        best_clf = clf\n"
   ]
  },
  {
   "cell_type": "code",
   "execution_count": 25,
   "metadata": {},
   "outputs": [
    {
     "data": {
      "image/png": "[encoded data removed]",
      "text/plain": [
       "<matplotlib.figure.Figure at 0x1c2899f7c88>"
      ]
     },
     "metadata": {},
     "output_type": "display_data"
    }
   ],
   "source": [
    "# Plot the results\n",
    "plt.plot(train_acc)\n",
    "plt.plot(val_acc)\n",
    "plt.title('model accuracy')\n",
    "plt.ylabel('accuracy')\n",
    "plt.xlabel('max_depth')\n",
    "plt.legend(['train', 'validation'], loc='upper left')\n",
    "plt.show()"
   ]
  },
  {
   "cell_type": "code",
   "execution_count": 27,
   "metadata": {},
   "outputs": [
    {
     "name": "stdout",
     "output_type": "stream",
     "text": [
      "Tree constructed in 43.40 seconds.\n"
     ]
    }
   ],
   "source": [
    "clf = tree.DecisionTreeClassifier(class_weight=\"balanced\")\n",
    "t = time.time()\n",
    "clf = clf.fit(train_data, train_labels)\n",
    "elapsed = time.time() - t\n",
    "print('Tree constructed in {:0.2f} seconds.'.format(elapsed))"
   ]
  },
  {
   "cell_type": "code",
   "execution_count": 28,
   "metadata": {},
   "outputs": [
    {
     "name": "stdout",
     "output_type": "stream",
     "text": [
      "Mean accuracy on training set = 100.00%\n",
      "Mean accuracy on validation set = 93.01%\n",
      "Mean accuracy on testing set = 92.99%\n"
     ]
    }
   ],
   "source": [
    "print('Mean accuracy on training set = {:0.2f}%'.format(clf.score(train_data, train_labels)*100))\n",
    "print('Mean accuracy on validation set = {:0.2f}%'.format(clf.score(valid_data, valid_labels)*100))\n",
    "print('Mean accuracy on testing set = {:0.2f}%'.format(clf.score(test_data, test_labels)*100))"
   ]
  },
  {
   "cell_type": "markdown",
   "metadata": {},
   "source": [
    "Let's also try out some random forests!"
   ]
  },
  {
   "cell_type": "code",
   "execution_count": 33,
   "metadata": {},
   "outputs": [
    {
     "name": "stdout",
     "output_type": "stream",
     "text": [
      "Tree constructed in 66.37 seconds.\n"
     ]
    }
   ],
   "source": [
    "clf = ensemble.RandomForestClassifier(class_weight=\"balanced\")\n",
    "t = time.time()\n",
    "clf = clf.fit(train_data, train_labels)\n",
    "elapsed = time.time() - t\n",
    "print('Tree constructed in {:0.2f} seconds.'.format(elapsed))\n",
    "print('Mean accuracy on training set = {:0.2f}%'.format(clf.score(train_data, train_labels)*100))\n",
    "print('Mean accuracy on validation set = {:0.2f}%'.format(clf.score(valid_data, valid_labels)*100))\n",
    "print('Mean accuracy on testing set = {:0.2f}%'.format(clf.score(test_data, test_labels)*100))"
   ]
  },
  {
   "cell_type": "code",
   "execution_count": 37,
   "metadata": {},
   "outputs": [
    {
     "name": "stdout",
     "output_type": "stream",
     "text": [
      "Tree constructed in 62.48 seconds.\n",
      "Mean accuracy on training set = 99.50%\n",
      "Mean accuracy on validation set = 91.34%\n",
      "Mean accuracy on testing set = 91.50%\n"
     ]
    }
   ],
   "source": [
    "clf = ensemble.RandomForestClassifier()\n",
    "t = time.time()\n",
    "clf = clf.fit(train_data, train_labels)\n",
    "elapsed = time.time() - t\n",
    "print('Tree constructed in {:0.2f} seconds.'.format(elapsed))\n",
    "print('Mean accuracy on training set = {:0.2f}%'.format(clf.score(train_data, train_labels)*100))\n",
    "print('Mean accuracy on validation set = {:0.2f}%'.format(clf.score(valid_data, valid_labels)*100))\n",
    "print('Mean accuracy on testing set = {:0.2f}%'.format(clf.score(test_data, test_labels)*100))"
   ]
  },
  {
   "cell_type": "code",
   "execution_count": 41,
   "metadata": {},
   "outputs": [
    {
     "name": "stdout",
     "output_type": "stream",
     "text": [
      "Tree constructed in 606.30 seconds.\n",
      "Mean accuracy on training set = 100.00%\n",
      "Mean accuracy on validation set = 94.42%\n",
      "Mean accuracy on testing set = 94.38%\n"
     ]
    }
   ],
   "source": [
    "# A random forest with 100 trees works a little bit better, up to 94% accuracy.\n",
    "clf = ensemble.RandomForestClassifier(n_estimators=100, class_weight=\"balanced\")\n",
    "t = time.time()\n",
    "clf = clf.fit(train_data, train_labels)\n",
    "elapsed = time.time() - t\n",
    "print('Tree constructed in {:0.2f} seconds.'.format(elapsed))\n",
    "print('Mean accuracy on training set = {:0.2f}%'.format(clf.score(train_data, train_labels)*100))\n",
    "print('Mean accuracy on validation set = {:0.2f}%'.format(clf.score(valid_data, valid_labels)*100))\n",
    "print('Mean accuracy on testing set = {:0.2f}%'.format(clf.score(test_data, test_labels)*100))"
   ]
  },
  {
   "cell_type": "code",
   "execution_count": 7,
   "metadata": {},
   "outputs": [
    {
     "name": "stdout",
     "output_type": "stream",
     "text": [
      "Tree constructed in 32.20 seconds.\n",
      "Mean accuracy on training set = 100.00%\n",
      "Mean accuracy on validation set = 94.45%\n",
      "Mean accuracy on testing set = 94.36%\n"
     ]
    }
   ],
   "source": [
    "# A random forest with 100 trees works a little bit better, up to 94% accuracy. \n",
    "# Q:How much faster is it with n_jobs = -1? \n",
    "# A: Way faster!    \n",
    "clf = ensemble.RandomForestClassifier(n_estimators=100, n_jobs=-1, class_weight=\"balanced\")\n",
    "t = time.time()\n",
    "clf = clf.fit(train_data, train_labels)\n",
    "elapsed = time.time() - t\n",
    "print('Tree constructed in {:0.2f} seconds.'.format(elapsed))\n",
    "print('Mean accuracy on training set = {:0.2f}%'.format(clf.score(train_data, train_labels)*100))\n",
    "print('Mean accuracy on validation set = {:0.2f}%'.format(clf.score(valid_data, valid_labels)*100))\n",
    "print('Mean accuracy on testing set = {:0.2f}%'.format(clf.score(test_data, test_labels)*100))"
   ]
  },
  {
   "cell_type": "code",
   "execution_count": 3,
   "metadata": {},
   "outputs": [
    {
     "name": "stdout",
     "output_type": "stream",
     "text": [
      "Tree constructed in 288.74 seconds.\n",
      "Mean accuracy on training set = 100.00%\n",
      "Mean accuracy on validation set = 94.75%\n",
      "Mean accuracy on testing set = 94.65%\n"
     ]
    }
   ],
   "source": [
    "# A random forest with 1000 trees? A minor improvement, about .3%...\n",
    "clf = ensemble.RandomForestClassifier(n_estimators=1000, n_jobs=-1, class_weight=\"balanced\")\n",
    "t = time.time()\n",
    "clf = clf.fit(train_data, train_labels)\n",
    "elapsed = time.time() - t\n",
    "print('Tree constructed in {:0.2f} seconds.'.format(elapsed))\n",
    "print('Mean accuracy on training set = {:0.2f}%'.format(clf.score(train_data, train_labels)*100))\n",
    "print('Mean accuracy on validation set = {:0.2f}%'.format(clf.score(valid_data, valid_labels)*100))\n",
    "print('Mean accuracy on testing set = {:0.2f}%'.format(clf.score(test_data, test_labels)*100))"
   ]
  },
  {
   "cell_type": "code",
   "execution_count": 4,
   "metadata": {},
   "outputs": [
    {
     "data": {
      "text/plain": [
       "['models/random_forest_1000_balanced.pkl']"
      ]
     },
     "execution_count": 4,
     "metadata": {},
     "output_type": "execute_result"
    }
   ],
   "source": [
    "from sklearn.externals import joblib\n",
    "joblib.dump(clf, 'models/random_forest_1000_balanced.pkl')\n",
    "print(\"Model saved.\")"
   ]
  },
  {
   "cell_type": "code",
   "execution_count": 9,
   "metadata": {},
   "outputs": [
    {
     "name": "stdout",
     "output_type": "stream",
     "text": [
      "Tree constructed in 305.55 seconds.\n",
      "Mean accuracy on training set = 100.00%\n",
      "Mean accuracy on validation set = 94.68%\n",
      "Mean accuracy on testing set = 94.62%\n"
     ]
    }
   ],
   "source": [
    "# A random forest with 5000 trees? No improvement\n",
    "clf = ensemble.RandomForestClassifier(n_estimators=1000, n_jobs=-1, class_weight=\"balanced\")\n",
    "t = time.time()\n",
    "clf = clf.fit(train_data, train_labels)\n",
    "elapsed = time.time() - t\n",
    "print('Tree constructed in {:0.2f} seconds.'.format(elapsed))\n",
    "print('Mean accuracy on training set = {:0.2f}%'.format(clf.score(train_data, train_labels)*100))\n",
    "print('Mean accuracy on validation set = {:0.2f}%'.format(clf.score(valid_data, valid_labels)*100))\n",
    "print('Mean accuracy on testing set = {:0.2f}%'.format(clf.score(test_data, test_labels)*100))"
   ]
  },
  {
   "cell_type": "code",
   "execution_count": 4,
   "metadata": {},
   "outputs": [
    {
     "name": "stdout",
     "output_type": "stream",
     "text": [
      "Tree constructed in 35.83 seconds.\n",
      "Mean accuracy on training set = 100.00%\n",
      "Mean accuracy on validation set = 94.58%\n",
      "Mean accuracy on testing set = 94.59%\n"
     ]
    }
   ],
   "source": [
    "# A random forest with 100 trees using entropy instead of gini - slight improvement\n",
    "  \n",
    "clf = ensemble.RandomForestClassifier(n_estimators=100, criterion='entropy', n_jobs=-1, class_weight=\"balanced\")\n",
    "t = time.time()\n",
    "clf = clf.fit(train_data, train_labels)\n",
    "elapsed = time.time() - t\n",
    "print('Tree constructed in {:0.2f} seconds.'.format(elapsed))\n",
    "print('Mean accuracy on training set = {:0.2f}%'.format(clf.score(train_data, train_labels)*100))\n",
    "print('Mean accuracy on validation set = {:0.2f}%'.format(clf.score(valid_data, valid_labels)*100))\n",
    "print('Mean accuracy on testing set = {:0.2f}%'.format(clf.score(test_data, test_labels)*100))"
   ]
  },
  {
   "cell_type": "code",
   "execution_count": 5,
   "metadata": {},
   "outputs": [
    {
     "name": "stdout",
     "output_type": "stream",
     "text": [
      "Tree constructed in 133.24 seconds.\n",
      "Mean accuracy on training set = 100.00%\n",
      "Mean accuracy on validation set = 96.36%\n",
      "Mean accuracy on testing set = 96.35%\n"
     ]
    }
   ],
   "source": [
    "# A random forest with 100 trees using entropy instead of gini and max_features=None\n",
    "  \n",
    "clf = ensemble.RandomForestClassifier(n_estimators=100, criterion='entropy', max_features=None,\n",
    "                                      n_jobs=-1, class_weight=\"balanced\")\n",
    "t = time.time()\n",
    "clf = clf.fit(train_data, train_labels)\n",
    "elapsed = time.time() - t\n",
    "print('Tree constructed in {:0.2f} seconds.'.format(elapsed))\n",
    "print('Mean accuracy on training set = {:0.2f}%'.format(clf.score(train_data, train_labels)*100))\n",
    "print('Mean accuracy on validation set = {:0.2f}%'.format(clf.score(valid_data, valid_labels)*100))\n",
    "print('Mean accuracy on testing set = {:0.2f}%'.format(clf.score(test_data, test_labels)*100))"
   ]
  },
  {
   "cell_type": "code",
   "execution_count": 6,
   "metadata": {},
   "outputs": [
    {
     "name": "stdout",
     "output_type": "stream",
     "text": [
      "Tree constructed in 1290.47 seconds.\n",
      "Mean accuracy on training set = 100.00%\n",
      "Mean accuracy on validation set = 96.53%\n",
      "Mean accuracy on testing set = 96.50%\n"
     ]
    }
   ],
   "source": [
    "# A random forest with 1000 trees using entropy instead of gini and max_features=None - another .18%\n",
    "  \n",
    "clf = ensemble.RandomForestClassifier(n_estimators=1000, criterion='entropy', max_features=None,\n",
    "                                      n_jobs=-1, class_weight=\"balanced\")\n",
    "t = time.time()\n",
    "clf = clf.fit(train_data, train_labels)\n",
    "elapsed = time.time() - t\n",
    "print('Tree constructed in {:0.2f} seconds.'.format(elapsed))\n",
    "print('Mean accuracy on training set = {:0.2f}%'.format(clf.score(train_data, train_labels)*100))\n",
    "print('Mean accuracy on validation set = {:0.2f}%'.format(clf.score(valid_data, valid_labels)*100))\n",
    "print('Mean accuracy on testing set = {:0.2f}%'.format(clf.score(test_data, test_labels)*100))"
   ]
  },
  {
   "cell_type": "code",
   "execution_count": 7,
   "metadata": {},
   "outputs": [
    {
     "name": "stdout",
     "output_type": "stream",
     "text": [
      "Tree constructed in 119.22 seconds.\n",
      "Mean accuracy on training set = 100.00%\n",
      "Mean accuracy on validation set = 95.95%\n",
      "Mean accuracy on testing set = 95.93%\n"
     ]
    }
   ],
   "source": [
    "# A random forest with 100 trees using gini and max_features=None - not better than entropy\n",
    "  \n",
    "clf = ensemble.RandomForestClassifier(n_estimators=100, criterion='gini', max_features=None,\n",
    "                                      n_jobs=-1, class_weight=\"balanced\")\n",
    "t = time.time()\n",
    "clf = clf.fit(train_data, train_labels)\n",
    "elapsed = time.time() - t\n",
    "print('Tree constructed in {:0.2f} seconds.'.format(elapsed))\n",
    "print('Mean accuracy on training set = {:0.2f}%'.format(clf.score(train_data, train_labels)*100))\n",
    "print('Mean accuracy on validation set = {:0.2f}%'.format(clf.score(valid_data, valid_labels)*100))\n",
    "print('Mean accuracy on testing set = {:0.2f}%'.format(clf.score(test_data, test_labels)*100))"
   ]
  },
  {
   "cell_type": "markdown",
   "metadata": {},
   "source": [
    "Let's try adding some new features to the data."
   ]
  },
  {
   "cell_type": "code",
   "execution_count": 108,
   "metadata": {
    "collapsed": true
   },
   "outputs": [],
   "source": [
    "# This should really be vectorized\n",
    "def add_features(dat):\n",
    "    ind=np.array(np.append(np.arange(1,10), [0]))\n",
    "    feats = dat[:10]\n",
    "    new_feats = []\n",
    "    for _ in np.arange(10):\n",
    "        new_feats.extend(np.multiply(feats, feats[ind]))\n",
    "        ind = ind[ind]\n",
    "    return new_feats\n",
    "# print(add_features(np.array([1,2,3,4,5,6,7,8,9,9,9,9,9])))\n",
    "    "
   ]
  },
  {
   "cell_type": "code",
   "execution_count": 110,
   "metadata": {},
   "outputs": [
    {
     "data": {
      "text/plain": [
       "100"
      ]
     },
     "execution_count": 110,
     "metadata": {},
     "output_type": "execute_result"
    }
   ],
   "source": [
    "# a = np.arange(9, -1, -1)\n",
    "# print(a)\n",
    "a = np.array([0, 1, 2, 3, 4, 5, 6, 7, 8, 9])\n",
    "len(add_features(a))"
   ]
  },
  {
   "cell_type": "code",
   "execution_count": 111,
   "metadata": {},
   "outputs": [
    {
     "name": "stdout",
     "output_type": "stream",
     "text": [
      "Complete\n"
     ]
    }
   ],
   "source": [
    "extended_train_data = []\n",
    "for dat in train_data:\n",
    "    extended_train_data.append(add_features(dat))\n",
    "extended_train_data = np.array(extended_train_data)\n",
    "print('Complete')"
   ]
  },
  {
   "cell_type": "code",
   "execution_count": 112,
   "metadata": {},
   "outputs": [
    {
     "name": "stdout",
     "output_type": "stream",
     "text": [
      "Complete\n"
     ]
    }
   ],
   "source": [
    "extended_valid_data = []\n",
    "for dat in valid_data:\n",
    "    extended_valid_data.append(add_features(dat))\n",
    "extended_valid_data = np.array(extended_valid_data)\n",
    "\n",
    "print('Complete')"
   ]
  },
  {
   "cell_type": "code",
   "execution_count": 113,
   "metadata": {},
   "outputs": [
    {
     "name": "stdout",
     "output_type": "stream",
     "text": [
      "Tree constructed in 669.81 seconds.\n",
      "Mean accuracy on training set = 100.00%\n",
      "Mean accuracy on validation set = 92.37%\n"
     ]
    }
   ],
   "source": [
    "# A random forest with 100 trees trained on the extended training set!\n",
    "clf = ensemble.RandomForestClassifier(n_estimators=100, n_jobs=-1, class_weight=\"balanced\")\n",
    "t = time.time()\n",
    "clf = clf.fit(extended_train_data, train_labels)\n",
    "elapsed = time.time() - t\n",
    "print('Tree constructed in {:0.2f} seconds.'.format(elapsed))\n",
    "print('Mean accuracy on training set = {:0.2f}%'.format(clf.score(extended_train_data, train_labels)*100))\n",
    "print('Mean accuracy on validation set = {:0.2f}%'.format(clf.score(extended_valid_data, valid_labels)*100))\n",
    "#  Adding all products doesn't seem to help. In fact, it's a bit worse."
   ]
  },
  {
   "cell_type": "code",
   "execution_count": 13,
   "metadata": {},
   "outputs": [
    {
     "name": "stdout",
     "output_type": "stream",
     "text": [
      "Complete\n"
     ]
    }
   ],
   "source": [
    "# What if we apply PCA first?\n",
    "PCA = decomposition.PCA(n_components=30)\n",
    "reduced_train_data = PCA.fit_transform(train_data)\n",
    "print('Complete')"
   ]
  },
  {
   "cell_type": "code",
   "execution_count": 14,
   "metadata": {},
   "outputs": [
    {
     "name": "stdout",
     "output_type": "stream",
     "text": [
      "Tree constructed in 434.76 seconds.\n",
      "Mean accuracy on training set = 100.00%\n",
      "Mean accuracy on validation set = 93.97%\n"
     ]
    }
   ],
   "source": [
    "# A random forest with 100 trees and reduced training data\n",
    "clf = ensemble.RandomForestClassifier(n_estimators=100, n_jobs=-1, class_weight=\"balanced\")\n",
    "t = time.time()\n",
    "clf = clf.fit(reduced_train_data, train_labels)\n",
    "elapsed = time.time() - t\n",
    "print('Tree constructed in {:0.2f} seconds.'.format(elapsed))\n",
    "print('Mean accuracy on training set = {:0.2f}%'.format(clf.score(reduced_train_data, train_labels)*100))\n",
    "print('Mean accuracy on validation set = {:0.2f}%'.format(clf.score(PCA.transform(valid_data), valid_labels)*100))\n",
    "# print('Mean accuracy on testing set = {:0.2f}%'.format(clf.score(PCA.transform(test_data), test_labels)*100))\n",
    "# Doesn't help, need a way to reduce the overfitting a bit? "
   ]
  },
  {
   "cell_type": "markdown",
   "metadata": {},
   "source": [
    "Let's try a gradient boosting classifier"
   ]
  },
  {
   "cell_type": "code",
   "execution_count": 10,
   "metadata": {},
   "outputs": [
    {
     "name": "stdout",
     "output_type": "stream",
     "text": [
      "      Iter       Train Loss   Remaining Time \n",
      "         1      563542.4792            9.46m\n",
      "         2      508997.0991            8.88m\n",
      "         3      467136.7308            8.65m\n",
      "         4      433791.1797            8.51m\n",
      "         5      406595.8590            8.38m\n",
      "         6      384172.4962            8.29m\n",
      "         7      365321.4034            8.14m\n",
      "         8      349335.5655            8.01m\n",
      "         9      335750.7403            7.96m\n",
      "        10      324002.5375            7.88m\n",
      "        20      261629.7138            6.89m\n",
      "        30      237821.3670            5.94m\n",
      "        40      225390.8112            5.03m\n",
      "        50      217968.8370            4.13m\n",
      "        60      212059.2071            3.26m\n",
      "        70      207642.8291            2.42m\n",
      "        80      203756.3191            1.60m\n",
      "        90      200786.2447           47.74s\n",
      "       100      198068.2708            0.00s\n",
      "GBC constructed in 476.52 seconds.\n",
      "Mean accuracy on training set = 77.50%\n",
      "Mean accuracy on validation set = 77.34%\n"
     ]
    }
   ],
   "source": [
    "gbc = ensemble.GradientBoostingClassifier(n_estimators=100, verbose=1)\n",
    "t = time.time()\n",
    "train_labels_num = np.argmax(train_labels, axis=1)\n",
    "gbc.fit(train_data,train_labels_num)\n",
    "elapsed = time.time() - t\n",
    "print('GBC constructed in {:0.2f} seconds.'.format(elapsed))\n",
    "print('Mean accuracy on training set = {:0.2f}%'.format(gbc.score(train_data, train_labels_num)*100))\n",
    "print('Mean accuracy on validation set = {:0.2f}%'.format(gbc.score(valid_data, np.argmax(valid_labels, axis=1))*100))"
   ]
  },
  {
   "cell_type": "code",
   "execution_count": 21,
   "metadata": {},
   "outputs": [
    {
     "name": "stdout",
     "output_type": "stream",
     "text": [
      "      Iter       Train Loss   Remaining Time \n",
      "         1      540807.4149          172.23m\n",
      "         2      472165.3968          172.38m\n",
      "         3      420940.9257          171.11m\n",
      "         4      380271.8236          170.46m\n",
      "         5      347200.7551          169.11m\n",
      "         6      319124.8231          168.26m\n",
      "         7      295733.1317          167.37m\n",
      "         8      276538.9233          165.57m\n",
      "         9      259813.2405          164.32m\n",
      "        10      245533.1722          162.65m\n",
      "        20      166780.8228          146.67m\n",
      "        30      136020.1724          127.19m\n",
      "        40      119399.8068          107.60m\n",
      "        50      107252.1182           88.83m\n",
      "        60       99236.5864           69.81m\n",
      "        70       92848.1058           51.35m\n",
      "        80       86303.5140           33.84m\n",
      "        90       80453.2463           16.78m\n",
      "       100       75795.2570            0.00s\n",
      "GBC constructed in 10014.71 seconds.\n",
      "Mean accuracy on training set = 93.56%\n",
      "Mean accuracy on validation set = 91.43%\n"
     ]
    }
   ],
   "source": [
    "gbc = ensemble.GradientBoostingClassifier(n_estimators=100, verbose=1, max_depth=8)\n",
    "t = time.time()\n",
    "train_labels_num = np.argmax(train_labels, axis=1)\n",
    "gbc.fit(train_data, train_labels_num)\n",
    "elapsed = time.time() - t\n",
    "print('GBC constructed in {:0.2f} seconds.'.format(elapsed))\n",
    "print('Mean accuracy on training set = {:0.2f}%'.format(gbc.score(train_data, train_labels_num)*100))\n",
    "print('Mean accuracy on validation set = {:0.2f}%'.format(gbc.score(valid_data, np.argmax(valid_labels, axis=1))*100))"
   ]
  },
  {
   "cell_type": "code",
   "execution_count": 11,
   "metadata": {},
   "outputs": [
    {
     "name": "stdout",
     "output_type": "stream",
     "text": [
      "      Iter       Train Loss   Remaining Time \n",
      "         1      530259.7625          351.51m\n",
      "         2      456507.4796          361.19m\n",
      "         3      401027.1144          366.97m\n",
      "         4      356809.3868          370.84m\n",
      "         5      321015.9635          372.60m\n",
      "         6      290996.6464          373.51m\n",
      "         7      265734.1014          374.79m\n",
      "         8      244479.4435          377.32m\n",
      "         9      226349.4404          380.08m\n",
      "        10      210521.4514          381.00m\n",
      "        20      125229.3486          382.07m\n",
      "        30       95713.3282          370.54m\n",
      "        40       80188.6859          355.48m\n"
     ]
    },
    {
     "ename": "KeyboardInterrupt",
     "evalue": "",
     "output_type": "error",
     "traceback": [
      "\u001b[0;31m---------------------------------------------------------------------------\u001b[0m",
      "\u001b[0;31mKeyboardInterrupt\u001b[0m                         Traceback (most recent call last)",
      "\u001b[0;32m<ipython-input-11-5d9f9bc4a163>\u001b[0m in \u001b[0;36m<module>\u001b[0;34m()\u001b[0m\n\u001b[1;32m      2\u001b[0m \u001b[0mt\u001b[0m \u001b[0;34m=\u001b[0m \u001b[0mtime\u001b[0m\u001b[0;34m.\u001b[0m\u001b[0mtime\u001b[0m\u001b[0;34m(\u001b[0m\u001b[0;34m)\u001b[0m\u001b[0;34m\u001b[0m\u001b[0m\n\u001b[1;32m      3\u001b[0m \u001b[0mtrain_labels_num\u001b[0m \u001b[0;34m=\u001b[0m \u001b[0mnp\u001b[0m\u001b[0;34m.\u001b[0m\u001b[0margmax\u001b[0m\u001b[0;34m(\u001b[0m\u001b[0mtrain_labels\u001b[0m\u001b[0;34m,\u001b[0m\u001b[0maxis\u001b[0m\u001b[0;34m=\u001b[0m\u001b[0;36m1\u001b[0m\u001b[0;34m)\u001b[0m\u001b[0;34m\u001b[0m\u001b[0m\n\u001b[0;32m----> 4\u001b[0;31m \u001b[0mgbc\u001b[0m\u001b[0;34m.\u001b[0m\u001b[0mfit\u001b[0m\u001b[0;34m(\u001b[0m\u001b[0mtrain_data\u001b[0m\u001b[0;34m,\u001b[0m\u001b[0mtrain_labels_num\u001b[0m\u001b[0;34m)\u001b[0m\u001b[0;34m\u001b[0m\u001b[0m\n\u001b[0m\u001b[1;32m      5\u001b[0m \u001b[0melapsed\u001b[0m \u001b[0;34m=\u001b[0m \u001b[0mtime\u001b[0m\u001b[0;34m.\u001b[0m\u001b[0mtime\u001b[0m\u001b[0;34m(\u001b[0m\u001b[0;34m)\u001b[0m \u001b[0;34m-\u001b[0m \u001b[0mt\u001b[0m\u001b[0;34m\u001b[0m\u001b[0m\n\u001b[1;32m      6\u001b[0m \u001b[0mprint\u001b[0m\u001b[0;34m(\u001b[0m\u001b[0;34m'GBC constructed in {:0.2f} seconds.'\u001b[0m\u001b[0;34m.\u001b[0m\u001b[0mformat\u001b[0m\u001b[0;34m(\u001b[0m\u001b[0melapsed\u001b[0m\u001b[0;34m)\u001b[0m\u001b[0;34m)\u001b[0m\u001b[0;34m\u001b[0m\u001b[0m\n",
      "\u001b[0;32m~/.local/lib/python3.5/site-packages/sklearn/ensemble/gradient_boosting.py\u001b[0m in \u001b[0;36mfit\u001b[0;34m(self, X, y, sample_weight, monitor)\u001b[0m\n\u001b[1;32m   1032\u001b[0m         \u001b[0;31m# fit the boosting stages\u001b[0m\u001b[0;34m\u001b[0m\u001b[0;34m\u001b[0m\u001b[0m\n\u001b[1;32m   1033\u001b[0m         n_stages = self._fit_stages(X, y, y_pred, sample_weight, random_state,\n\u001b[0;32m-> 1034\u001b[0;31m                                     begin_at_stage, monitor, X_idx_sorted)\n\u001b[0m\u001b[1;32m   1035\u001b[0m         \u001b[0;31m# change shape of arrays after fit (early-stopping or additional ests)\u001b[0m\u001b[0;34m\u001b[0m\u001b[0;34m\u001b[0m\u001b[0m\n\u001b[1;32m   1036\u001b[0m         \u001b[0;32mif\u001b[0m \u001b[0mn_stages\u001b[0m \u001b[0;34m!=\u001b[0m \u001b[0mself\u001b[0m\u001b[0;34m.\u001b[0m\u001b[0mestimators_\u001b[0m\u001b[0;34m.\u001b[0m\u001b[0mshape\u001b[0m\u001b[0;34m[\u001b[0m\u001b[0;36m0\u001b[0m\u001b[0;34m]\u001b[0m\u001b[0;34m:\u001b[0m\u001b[0;34m\u001b[0m\u001b[0m\n",
      "\u001b[0;32m~/.local/lib/python3.5/site-packages/sklearn/ensemble/gradient_boosting.py\u001b[0m in \u001b[0;36m_fit_stages\u001b[0;34m(self, X, y, y_pred, sample_weight, random_state, begin_at_stage, monitor, X_idx_sorted)\u001b[0m\n\u001b[1;32m   1087\u001b[0m             y_pred = self._fit_stage(i, X, y, y_pred, sample_weight,\n\u001b[1;32m   1088\u001b[0m                                      \u001b[0msample_mask\u001b[0m\u001b[0;34m,\u001b[0m \u001b[0mrandom_state\u001b[0m\u001b[0;34m,\u001b[0m \u001b[0mX_idx_sorted\u001b[0m\u001b[0;34m,\u001b[0m\u001b[0;34m\u001b[0m\u001b[0m\n\u001b[0;32m-> 1089\u001b[0;31m                                      X_csc, X_csr)\n\u001b[0m\u001b[1;32m   1090\u001b[0m \u001b[0;34m\u001b[0m\u001b[0m\n\u001b[1;32m   1091\u001b[0m             \u001b[0;31m# track deviance (= loss)\u001b[0m\u001b[0;34m\u001b[0m\u001b[0;34m\u001b[0m\u001b[0m\n",
      "\u001b[0;32m~/.local/lib/python3.5/site-packages/sklearn/ensemble/gradient_boosting.py\u001b[0m in \u001b[0;36m_fit_stage\u001b[0;34m(self, i, X, y, y_pred, sample_weight, sample_mask, random_state, X_idx_sorted, X_csc, X_csr)\u001b[0m\n\u001b[1;32m    786\u001b[0m             \u001b[0;32melse\u001b[0m\u001b[0;34m:\u001b[0m\u001b[0;34m\u001b[0m\u001b[0m\n\u001b[1;32m    787\u001b[0m                 tree.fit(X, residual, sample_weight=sample_weight,\n\u001b[0;32m--> 788\u001b[0;31m                          check_input=False, X_idx_sorted=X_idx_sorted)\n\u001b[0m\u001b[1;32m    789\u001b[0m \u001b[0;34m\u001b[0m\u001b[0m\n\u001b[1;32m    790\u001b[0m             \u001b[0;31m# update tree leaves\u001b[0m\u001b[0;34m\u001b[0m\u001b[0;34m\u001b[0m\u001b[0m\n",
      "\u001b[0;32m~/.local/lib/python3.5/site-packages/sklearn/tree/tree.py\u001b[0m in \u001b[0;36mfit\u001b[0;34m(self, X, y, sample_weight, check_input, X_idx_sorted)\u001b[0m\n\u001b[1;32m   1122\u001b[0m             \u001b[0msample_weight\u001b[0m\u001b[0;34m=\u001b[0m\u001b[0msample_weight\u001b[0m\u001b[0;34m,\u001b[0m\u001b[0;34m\u001b[0m\u001b[0m\n\u001b[1;32m   1123\u001b[0m             \u001b[0mcheck_input\u001b[0m\u001b[0;34m=\u001b[0m\u001b[0mcheck_input\u001b[0m\u001b[0;34m,\u001b[0m\u001b[0;34m\u001b[0m\u001b[0m\n\u001b[0;32m-> 1124\u001b[0;31m             X_idx_sorted=X_idx_sorted)\n\u001b[0m\u001b[1;32m   1125\u001b[0m         \u001b[0;32mreturn\u001b[0m \u001b[0mself\u001b[0m\u001b[0;34m\u001b[0m\u001b[0m\n\u001b[1;32m   1126\u001b[0m \u001b[0;34m\u001b[0m\u001b[0m\n",
      "\u001b[0;32m~/.local/lib/python3.5/site-packages/sklearn/tree/tree.py\u001b[0m in \u001b[0;36mfit\u001b[0;34m(self, X, y, sample_weight, check_input, X_idx_sorted)\u001b[0m\n\u001b[1;32m    360\u001b[0m                                            min_impurity_split)\n\u001b[1;32m    361\u001b[0m \u001b[0;34m\u001b[0m\u001b[0m\n\u001b[0;32m--> 362\u001b[0;31m         \u001b[0mbuilder\u001b[0m\u001b[0;34m.\u001b[0m\u001b[0mbuild\u001b[0m\u001b[0;34m(\u001b[0m\u001b[0mself\u001b[0m\u001b[0;34m.\u001b[0m\u001b[0mtree_\u001b[0m\u001b[0;34m,\u001b[0m \u001b[0mX\u001b[0m\u001b[0;34m,\u001b[0m \u001b[0my\u001b[0m\u001b[0;34m,\u001b[0m \u001b[0msample_weight\u001b[0m\u001b[0;34m,\u001b[0m \u001b[0mX_idx_sorted\u001b[0m\u001b[0;34m)\u001b[0m\u001b[0;34m\u001b[0m\u001b[0m\n\u001b[0m\u001b[1;32m    363\u001b[0m \u001b[0;34m\u001b[0m\u001b[0m\n\u001b[1;32m    364\u001b[0m         \u001b[0;32mif\u001b[0m \u001b[0mself\u001b[0m\u001b[0;34m.\u001b[0m\u001b[0mn_outputs_\u001b[0m \u001b[0;34m==\u001b[0m \u001b[0;36m1\u001b[0m\u001b[0;34m:\u001b[0m\u001b[0;34m\u001b[0m\u001b[0m\n",
      "\u001b[0;31mKeyboardInterrupt\u001b[0m: "
     ]
    }
   ],
   "source": [
    "gbc = ensemble.GradientBoostingClassifier(n_estimators=500, verbose=1, max_depth=10)\n",
    "t = time.time()\n",
    "train_labels_num = np.argmax(train_labels, axis=1)\n",
    "gbc.fit(train_data, train_labels_num)\n",
    "elapsed = time.time() - t\n",
    "print('GBC constructed in {:0.2f} seconds.'.format(elapsed))\n",
    "print('Mean accuracy on training set = {:0.2f}%'.format(gbc.score(train_data, train_labels_num)*100))\n",
    "print('Mean accuracy on validation set = {:0.2f}%'.format(gbc.score(valid_data, np.argmax(valid_labels, axis=1))*100))"
   ]
  },
  {
   "cell_type": "markdown",
   "metadata": {},
   "source": [
    "I'd like to try some data augmentation to try to pump up this accuracy. \n",
    "Data description:\n",
    "Name                                     Data Type    Measurement                       Description\n",
    "\n",
    "Elevation                               quantitative    meters                       Elevation in meters\n",
    "Aspect                                  quantitative    azimuth                      Aspect in degrees azimuth\n",
    "Slope                                   quantitative    degrees                      Slope in degrees\n",
    "Horizontal_Distance_To_Hydrology        quantitative    meters                       Horz Dist to nearest surface water features\n",
    "Vertical_Distance_To_Hydrology          quantitative    meters                       Vert Dist to nearest surface water features\n",
    "Horizontal_Distance_To_Roadways         quantitative    meters                       Horz Dist to nearest roadway\n",
    "Hillshade_9am                           quantitative    0 to 255 index               Hillshade index at 9am, summer solstice\n",
    "Hillshade_Noon                          quantitative    0 to 255 index               Hillshade index at noon, summer soltice\n",
    "Hillshade_3pm                           quantitative    0 to 255 index               Hillshade index at 3pm, summer solstice\n",
    "Horizontal_Distance_To_Fire_Points      quantitative    meters                       Horz Dist to nearest wildfire ignition points\n",
    "Wilderness_Area (4 binary columns)      qualitative     0 (absence) or 1 (presence)  Wilderness area designation\n",
    "Soil_Type (40 binary columns)           qualitative     0 (absence) or 1 (presence)  Soil Type designation\n",
    "\n",
    "So the first 10 fields should be good places to add some noise to the training data. I'll try to add some Gaussian noise to these fields and see how that impacts performance."
   ]
  },
  {
   "cell_type": "code",
   "execution_count": null,
   "metadata": {},
   "outputs": [
    {
     "name": "stdout",
     "output_type": "stream",
     "text": [
      "1\n"
     ]
    }
   ],
   "source": [
    "augmented_train_data = []\n",
    "\n",
    "for k in np.arange(1, 8):\n",
    "    print(k)\n",
    "    inds = np.where(train_data[:, -1]==k)\n",
    "    scale = np.var(train_data[inds, :10]\n",
    "    for dat in train_data[inds]:\n",
    "        for _ in np.arange(1):\n",
    "            g = np.random.normal(loc = 0.0, scale = np.var(train_data[inds, :10], axis=0))\n",
    "            g = np.pad(g,pad_width=[0,44], mode = 'constant')\n",
    "            augmented_train_data.extend(dat+g)\n",
    "augmented_train_data.extend(train_data)\n",
    "augmented_train_data = np.array(augmented_train_data)\n",
    "print(len(train_data))                                                                     \n",
    "print(len(augmented_train_data))"
   ]
  }
 ],
 "metadata": {
  "kernelspec": {
   "display_name": "Python 3",
   "language": "python",
   "name": "python3"
  },
  "language_info": {
   "codemirror_mode": {
    "name": "ipython",
    "version": 3
   },
   "file_extension": ".py",
   "mimetype": "text/x-python",
   "name": "python",
   "nbconvert_exporter": "python",
   "pygments_lexer": "ipython3",
   "version": "3.5.2"
  }
 },
 "nbformat": 4,
 "nbformat_minor": 2
}
