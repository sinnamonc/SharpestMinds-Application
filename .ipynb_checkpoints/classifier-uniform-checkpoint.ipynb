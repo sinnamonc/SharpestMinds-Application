{
 "cells": [
  {
   "cell_type": "code",
   "execution_count": 1,
   "metadata": {},
   "outputs": [
    {
     "name": "stderr",
     "output_type": "stream",
     "text": [
      "Using TensorFlow backend.\n"
     ]
    },
    {
     "name": "stdout",
     "output_type": "stream",
     "text": [
      "Complete\n"
     ]
    }
   ],
   "source": [
    "import numpy as np\n",
    "import pandas as pd\n",
    "import time\n",
    "from keras.utils import to_categorical\n",
    "from keras.models import Sequential\n",
    "from keras.layers import Dense, Activation\n",
    "from keras.layers import Dropout\n",
    "from keras.layers.normalization import BatchNormalization\n",
    "from keras.optimizers import RMSprop\n",
    "import matplotlib.pyplot as plt\n",
    "from data_preprocessing import import_data\n",
    "from utils import shuffle_in_unison\n",
    "from utils import percent_correct\n",
    "from utils import get_uniform_batch\n",
    "\n",
    "# Import the data as a dataframe\n",
    "df = import_data()\n",
    "\n",
    "print('Complete')"
   ]
  },
  {
   "cell_type": "code",
   "execution_count": 2,
   "metadata": {
    "scrolled": true
   },
   "outputs": [
    {
     "name": "stdout",
     "output_type": "stream",
     "text": [
      "Complete\n"
     ]
    }
   ],
   "source": [
    "\n",
    "# Create test, validation, and training sets\n",
    "test_df = pd.DataFrame()\n",
    "valid_df = pd.DataFrame()\n",
    "train_df = pd.DataFrame()\n",
    "\n",
    "train_df_size_per_index = 1620#1620\n",
    "valid_df_size_per_index = 540#540\n",
    "\n",
    "#Shuffle the dataframe df\n",
    "df = df.sample(frac=1)\n",
    "\n",
    "for i in np.arange(1,8):\n",
    "    # Extract the rows with label i\n",
    "    data_temp = df[df.iloc[:,-1] == i]\n",
    "    # Put the first test_df_size into the test set\n",
    "    train_df = pd.concat([train_df, data_temp[:train_df_size_per_index]],axis=0, join='outer')\n",
    "    # Put the next valid_df_size into the validation set\n",
    "    valid_df = pd.concat([valid_df,data_temp[train_df_size_per_index:train_df_size_per_index+valid_df_size_per_index]],axis=0)\n",
    "    # Put the remainder into the training set\n",
    "    test_df = pd.concat([test_df,data_temp[train_df_size_per_index+valid_df_size_per_index:]],axis=0)\n",
    "\n",
    "# Extract the last columns, which corresponds to the labels\n",
    "test_labels = test_df.iloc[:,-1]\n",
    "valid_labels = valid_df.iloc[:,-1]\n",
    "train_labels = train_df.iloc[:,-1]\n",
    "\n",
    "# Remove the last columns, which corresponds to the labels\n",
    "test_df = test_df.drop(test_df.columns[-1],axis=1)\n",
    "valid_df = valid_df.drop(valid_df.columns[-1],axis=1)\n",
    "train_df = train_df.drop(train_df.columns[-1],axis=1)\n",
    "\n",
    "# Convert data from dataframes to np.arrays\n",
    "test_data = test_df.values\n",
    "valid_data = valid_df.values\n",
    "train_data = train_df.values\n",
    "test_labels = test_labels.values\n",
    "valid_labels = valid_labels.values\n",
    "train_labels = train_labels.values\n",
    "\n",
    "# Convert labels to one hot vectors\n",
    "test_labels = to_categorical(test_labels-1,7)\n",
    "valid_labels = to_categorical(valid_labels-1,7)\n",
    "train_labels = to_categorical(train_labels-1,7)\n",
    "\n",
    "# Shuffle the data and labels\n",
    "shuffle_in_unison(test_data, test_labels)\n",
    "shuffle_in_unison(valid_data, valid_labels)\n",
    "shuffle_in_unison(train_data, train_labels)\n",
    "\n",
    "print('Complete')"
   ]
  },
  {
   "cell_type": "code",
   "execution_count": 3,
   "metadata": {},
   "outputs": [
    {
     "name": "stdout",
     "output_type": "stream",
     "text": [
      "Build model...\n",
      "Complete\n"
     ]
    }
   ],
   "source": [
    "# Build the model\n",
    "print('Build model...')\n",
    "model = Sequential()\n",
    "model.add(Dense(120, activation='relu', input_dim=54))\n",
    "model.add(BatchNormalization())\n",
    "model.add(Dropout(0.5))\n",
    "# model.add(Dense(64, activation='relu'))\n",
    "# model.add(BatchNormalization())\n",
    "# model.add(Dropout(0.5))\n",
    "model.add(Dense(7, activation='softmax'))\n",
    "\n",
    "\n",
    "optimizer = RMSprop(lr=0.05)\n",
    "# model.compile(loss='mean_squared_error', optimizer=optimizer)\n",
    "model.compile(loss='categorical_crossentropy', optimizer=optimizer)\n",
    "\n",
    "print('Complete')"
   ]
  },
  {
   "cell_type": "code",
   "execution_count": 4,
   "metadata": {
    "scrolled": true
   },
   "outputs": [
    {
     "name": "stdout",
     "output_type": "stream",
     "text": [
      "Complete\n"
     ]
    }
   ],
   "source": [
    "num_epochs_trained = 0\n",
    "train_loss = []\n",
    "valid_loss = []\n",
    "print('Complete')"
   ]
  },
  {
   "cell_type": "code",
   "execution_count": 14,
   "metadata": {},
   "outputs": [
    {
     "name": "stdout",
     "output_type": "stream",
     "text": [
      "Training on batch number 50001 ...\n",
      "Training on batch number 50101 ...\n",
      "Training on batch number 50201 ...\n",
      "Training on batch number 50301 ...\n",
      "Training on batch number 50401 ...\n",
      "Training on batch number 50501 ...\n",
      "Training on batch number 50601 ...\n",
      "Training on batch number 50701 ...\n",
      "Training on batch number 50801 ...\n",
      "Training on batch number 50901 ...\n",
      "Training on batch number 51001 ...\n",
      "Training on batch number 51101 ...\n",
      "Training on batch number 51201 ...\n",
      "Training on batch number 51301 ...\n",
      "Training on batch number 51401 ...\n",
      "Training on batch number 51501 ...\n",
      "Training on batch number 51601 ...\n",
      "Training on batch number 51701 ...\n",
      "Training on batch number 51801 ...\n",
      "Training on batch number 51901 ...\n",
      "Training on batch number 52001 ...\n",
      "Training on batch number 52101 ...\n",
      "Training on batch number 52201 ...\n",
      "Training on batch number 52301 ...\n",
      "Training on batch number 52401 ...\n",
      "Training on batch number 52501 ...\n",
      "Training on batch number 52601 ...\n",
      "Training on batch number 52701 ...\n",
      "Training on batch number 52801 ...\n",
      "Training on batch number 52901 ...\n",
      "Training on batch number 53001 ...\n",
      "Training on batch number 53101 ...\n",
      "Training on batch number 53201 ...\n",
      "Training on batch number 53301 ...\n",
      "Training on batch number 53401 ...\n",
      "Training on batch number 53501 ...\n",
      "Training on batch number 53601 ...\n",
      "Training on batch number 53701 ...\n",
      "Training on batch number 53801 ...\n",
      "Training on batch number 53901 ...\n",
      "Training on batch number 54001 ...\n",
      "Training on batch number 54101 ...\n",
      "Training on batch number 54201 ...\n",
      "Training on batch number 54301 ...\n",
      "Training on batch number 54401 ...\n",
      "Training on batch number 54501 ...\n",
      "Training on batch number 54601 ...\n",
      "Training on batch number 54701 ...\n",
      "Training on batch number 54801 ...\n",
      "Training on batch number 54901 ...\n",
      "Training on batch number 55001 ...\n",
      "Training on batch number 55101 ...\n",
      "Training on batch number 55201 ...\n",
      "Training on batch number 55301 ...\n",
      "Training on batch number 55401 ...\n",
      "Training on batch number 55501 ...\n",
      "Training on batch number 55601 ...\n",
      "Training on batch number 55701 ...\n",
      "Training on batch number 55801 ...\n",
      "Training on batch number 55901 ...\n",
      "Training on batch number 56001 ...\n",
      "Training on batch number 56101 ...\n",
      "Training on batch number 56201 ...\n",
      "Training on batch number 56301 ...\n",
      "Training on batch number 56401 ...\n",
      "Training on batch number 56501 ...\n",
      "Training on batch number 56601 ...\n",
      "Training on batch number 56701 ...\n",
      "Training on batch number 56801 ...\n",
      "Training on batch number 56901 ...\n",
      "Training on batch number 57001 ...\n",
      "Training on batch number 57101 ...\n",
      "Training on batch number 57201 ...\n",
      "Training on batch number 57301 ...\n",
      "Training on batch number 57401 ...\n",
      "Training on batch number 57501 ...\n",
      "Training on batch number 57601 ...\n",
      "Training on batch number 57701 ...\n",
      "Training on batch number 57801 ...\n",
      "Training on batch number 57901 ...\n",
      "Training on batch number 58001 ...\n",
      "Training on batch number 58101 ...\n",
      "Training on batch number 58201 ...\n",
      "Training on batch number 58301 ...\n",
      "Training on batch number 58401 ...\n",
      "Training on batch number 58501 ...\n",
      "Training on batch number 58601 ...\n",
      "Training on batch number 58701 ...\n",
      "Training on batch number 58801 ...\n",
      "Training on batch number 58901 ...\n",
      "Training on batch number 59001 ...\n",
      "Training on batch number 59101 ...\n",
      "Training on batch number 59201 ...\n",
      "Training on batch number 59301 ...\n",
      "Training on batch number 59401 ...\n",
      "Training on batch number 59501 ...\n",
      "Training on batch number 59601 ...\n",
      "Training on batch number 59701 ...\n",
      "Training on batch number 59801 ...\n",
      "Training on batch number 59901 ...\n",
      "train_loss = 0.600993     valid_loss = 0.575091\n",
      "Total number of epochs trained = 60000\n"
     ]
    },
    {
     "data": {
      "image/png": "[encoded data removed]",
      "text/plain": [
       "<matplotlib.figure.Figure at 0x1a980bc7668>"
      ]
     },
     "metadata": {},
     "output_type": "display_data"
    }
   ],
   "source": [
    "# train the model several epochs, and test on the test set. Plot the loss for train and test sets\n",
    "\n",
    "for _ in np.arange(10000):\n",
    "    #print('Creating batch number', num_epochs_trained + 1, '...')\n",
    "    batch_data, batch_labels = get_uniform_batch(train_data,train_labels)\n",
    "    if num_epochs_trained%100==0:\n",
    "        print('Training on batch number', num_epochs_trained + 1, '...')\n",
    "    train_loss.append(model.train_on_batch(batch_data, batch_labels))\n",
    "    valid_loss.append(model.test_on_batch(valid_data, valid_labels, sample_weight=None))\n",
    "#     print('train_loss =', train_loss[-1], '    valid_loss =', valid_loss[-1])\n",
    "    num_epochs_trained = num_epochs_trained + 1\n",
    "print('train_loss =', train_loss[-1], '    valid_loss =', valid_loss[-1])\n",
    "print('Total number of epochs trained = {}'.format(num_epochs_trained))\n",
    "\n",
    "\n",
    "\n",
    "plt.plot(train_loss)\n",
    "plt.plot(valid_loss)\n",
    "plt.title('model loss')\n",
    "plt.ylabel('loss')\n",
    "plt.xlabel('epoch')\n",
    "plt.legend(['train', 'validation'], loc='upper left')\n",
    "plt.show()"
   ]
  },
  {
   "cell_type": "code",
   "execution_count": 15,
   "metadata": {},
   "outputs": [
    {
     "name": "stdout",
     "output_type": "stream",
     "text": [
      "Correct: 79.15343915343915 %\n"
     ]
    }
   ],
   "source": [
    "percent_correct(model,train_data,train_labels)"
   ]
  },
  {
   "cell_type": "code",
   "execution_count": 16,
   "metadata": {},
   "outputs": [
    {
     "name": "stdout",
     "output_type": "stream",
     "text": [
      "Correct: 75.5026455026455 %\n"
     ]
    }
   ],
   "source": [
    "percent_correct(model,valid_data,valid_labels)"
   ]
  },
  {
   "cell_type": "code",
   "execution_count": 213,
   "metadata": {},
   "outputs": [
    {
     "name": "stdout",
     "output_type": "stream",
     "text": [
      "0.0473521\n"
     ]
    }
   ],
   "source": [
    "# Show result on test data\n",
    "batch_data, batch_labels = get_uniform_batch(test_data,test_labels)\n",
    "test_loss = model.test_on_batch(batch_data, batch_labels, sample_weight=None)\n",
    "print(test_loss)"
   ]
  },
  {
   "cell_type": "code",
   "execution_count": 214,
   "metadata": {},
   "outputs": [
    {
     "name": "stdout",
     "output_type": "stream",
     "text": [
      "Correct: 77.57142857142857 %\n"
     ]
    }
   ],
   "source": [
    "percent_correct(model,batch_data,batch_labels)"
   ]
  },
  {
   "cell_type": "code",
   "execution_count": null,
   "metadata": {
    "collapsed": true
   },
   "outputs": [],
   "source": []
  }
 ],
 "metadata": {
  "kernelspec": {
   "display_name": "Python 3",
   "language": "python",
   "name": "python3"
  },
  "language_info": {
   "codemirror_mode": {
    "name": "ipython",
    "version": 3
   },
   "file_extension": ".py",
   "mimetype": "text/x-python",
   "name": "python",
   "nbconvert_exporter": "python",
   "pygments_lexer": "ipython3",
   "version": "3.5.4"
  }
 },
 "nbformat": 4,
 "nbformat_minor": 2
}
